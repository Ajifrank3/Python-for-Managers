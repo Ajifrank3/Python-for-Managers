{
 "cells": [
  {
   "cell_type": "code",
   "execution_count": 2,
   "id": "624a89a6-6462-4c66-904c-69d6696bd011",
   "metadata": {},
   "outputs": [],
   "source": [
    "import pandas as pd"
   ]
  },
  {
   "cell_type": "code",
   "execution_count": 3,
   "id": "c59da8c8-7db7-4298-a77a-b4f602428d3c",
   "metadata": {},
   "outputs": [],
   "source": [
    "df = pd.read_csv(\"C:/Users/admin/Downloads/Marketing data.csv\")"
   ]
  },
  {
   "cell_type": "code",
   "execution_count": 4,
   "id": "a5b191d1-ab1d-48a2-840c-237d2aa71818",
   "metadata": {},
   "outputs": [
    {
     "data": {
      "text/html": [
       "<div>\n",
       "<style scoped>\n",
       "    .dataframe tbody tr th:only-of-type {\n",
       "        vertical-align: middle;\n",
       "    }\n",
       "\n",
       "    .dataframe tbody tr th {\n",
       "        vertical-align: top;\n",
       "    }\n",
       "\n",
       "    .dataframe thead th {\n",
       "        text-align: right;\n",
       "    }\n",
       "</style>\n",
       "<table border=\"1\" class=\"dataframe\">\n",
       "  <thead>\n",
       "    <tr style=\"text-align: right;\">\n",
       "      <th></th>\n",
       "      <th>Order No</th>\n",
       "      <th>Order Date</th>\n",
       "      <th>Customer Name</th>\n",
       "      <th>Customer Type</th>\n",
       "      <th>Account Manager</th>\n",
       "      <th>Order Priority</th>\n",
       "      <th>Product Name</th>\n",
       "      <th>Product Category</th>\n",
       "      <th>Ship Mode</th>\n",
       "      <th>Ship Date</th>\n",
       "      <th>Cost Price</th>\n",
       "      <th>Retail Price</th>\n",
       "    </tr>\n",
       "  </thead>\n",
       "  <tbody>\n",
       "    <tr>\n",
       "      <th>0</th>\n",
       "      <td>5014-1</td>\n",
       "      <td>11-02-2013</td>\n",
       "      <td>Patrick Jones</td>\n",
       "      <td>Home Office</td>\n",
       "      <td>Yvette Biti</td>\n",
       "      <td>High</td>\n",
       "      <td>Artisan Heavy-Duty EZD  Binder With Locking Rings</td>\n",
       "      <td>Office Supplies</td>\n",
       "      <td>Regular Air</td>\n",
       "      <td>12-02-2013</td>\n",
       "      <td>3.52</td>\n",
       "      <td>5.58</td>\n",
       "    </tr>\n",
       "    <tr>\n",
       "      <th>1</th>\n",
       "      <td>5016-1</td>\n",
       "      <td>11-02-2013</td>\n",
       "      <td>Alex Russell</td>\n",
       "      <td>Home Office</td>\n",
       "      <td>Connor Betts</td>\n",
       "      <td>High</td>\n",
       "      <td>DrawIt Pizazz Watercolor Pencils, 10-Color Set...</td>\n",
       "      <td>Office Supplies</td>\n",
       "      <td>Regular Air</td>\n",
       "      <td>12-02-2013</td>\n",
       "      <td>2.39</td>\n",
       "      <td>4.26</td>\n",
       "    </tr>\n",
       "    <tr>\n",
       "      <th>2</th>\n",
       "      <td>5018-1</td>\n",
       "      <td>12-02-2013</td>\n",
       "      <td>Tamara Dahlen</td>\n",
       "      <td>Corporate</td>\n",
       "      <td>Leighton Forrest</td>\n",
       "      <td>Critical</td>\n",
       "      <td>Message Book, One Form per Page</td>\n",
       "      <td>Office Supplies</td>\n",
       "      <td>Express Air</td>\n",
       "      <td>14-02-2013</td>\n",
       "      <td>2.41</td>\n",
       "      <td>3.71</td>\n",
       "    </tr>\n",
       "    <tr>\n",
       "      <th>3</th>\n",
       "      <td>5019-1</td>\n",
       "      <td>13-02-2013</td>\n",
       "      <td>Susan Vittorini</td>\n",
       "      <td>Home Office</td>\n",
       "      <td>Yvette Biti</td>\n",
       "      <td>High</td>\n",
       "      <td>Cando S750 Color Inkjet Printer</td>\n",
       "      <td>Technology</td>\n",
       "      <td>Delivery Truck</td>\n",
       "      <td>15-02-2013</td>\n",
       "      <td>75.00</td>\n",
       "      <td>120.97</td>\n",
       "    </tr>\n",
       "    <tr>\n",
       "      <th>4</th>\n",
       "      <td>5020-1</td>\n",
       "      <td>14-02-2013</td>\n",
       "      <td>Muhammed Yedwab</td>\n",
       "      <td>Consumer</td>\n",
       "      <td>Nicholas Fernandes</td>\n",
       "      <td>Critical</td>\n",
       "      <td>Steady EarthWrite Recycled Pencils, Medium Sof...</td>\n",
       "      <td>Office Supplies</td>\n",
       "      <td>Regular Air</td>\n",
       "      <td>15-02-2013</td>\n",
       "      <td>0.90</td>\n",
       "      <td>2.10</td>\n",
       "    </tr>\n",
       "  </tbody>\n",
       "</table>\n",
       "</div>"
      ],
      "text/plain": [
       "  Order No  Order Date    Customer Name Customer Type     Account Manager  \\\n",
       "0   5014-1  11-02-2013    Patrick Jones   Home Office         Yvette Biti   \n",
       "1   5016-1  11-02-2013     Alex Russell   Home Office        Connor Betts   \n",
       "2   5018-1  12-02-2013    Tamara Dahlen     Corporate    Leighton Forrest   \n",
       "3   5019-1  13-02-2013  Susan Vittorini   Home Office         Yvette Biti   \n",
       "4   5020-1  14-02-2013  Muhammed Yedwab      Consumer  Nicholas Fernandes   \n",
       "\n",
       "  Order Priority                                       Product Name  \\\n",
       "0           High  Artisan Heavy-Duty EZD  Binder With Locking Rings   \n",
       "1           High  DrawIt Pizazz Watercolor Pencils, 10-Color Set...   \n",
       "2       Critical                    Message Book, One Form per Page   \n",
       "3           High                    Cando S750 Color Inkjet Printer   \n",
       "4       Critical  Steady EarthWrite Recycled Pencils, Medium Sof...   \n",
       "\n",
       "  Product Category       Ship Mode   Ship Date  Cost Price  Retail Price  \n",
       "0  Office Supplies     Regular Air  12-02-2013        3.52          5.58  \n",
       "1  Office Supplies     Regular Air  12-02-2013        2.39          4.26  \n",
       "2  Office Supplies     Express Air  14-02-2013        2.41          3.71  \n",
       "3       Technology  Delivery Truck  15-02-2013       75.00        120.97  \n",
       "4  Office Supplies     Regular Air  15-02-2013        0.90          2.10  "
      ]
     },
     "execution_count": 4,
     "metadata": {},
     "output_type": "execute_result"
    }
   ],
   "source": [
    "df.head()"
   ]
  },
  {
   "cell_type": "code",
   "execution_count": 7,
   "id": "c73d7b7b-62f4-42d7-b105-589d9c6d38c1",
   "metadata": {},
   "outputs": [
    {
     "data": {
      "text/plain": [
       "(15, 12)"
      ]
     },
     "execution_count": 7,
     "metadata": {},
     "output_type": "execute_result"
    }
   ],
   "source": [
    "df.shape"
   ]
  },
  {
   "cell_type": "code",
   "execution_count": 4,
   "id": "67c37d4b-b851-40dc-be58-912006e221e0",
   "metadata": {},
   "outputs": [],
   "source": [
    "df['Profit'] = df['Retail Price'] - df['Cost Price'] "
   ]
  },
  {
   "cell_type": "code",
   "execution_count": 5,
   "id": "2b1f6718-b994-4b22-a687-4566d64168cc",
   "metadata": {
    "scrolled": true
   },
   "outputs": [
    {
     "data": {
      "text/html": [
       "<div>\n",
       "<style scoped>\n",
       "    .dataframe tbody tr th:only-of-type {\n",
       "        vertical-align: middle;\n",
       "    }\n",
       "\n",
       "    .dataframe tbody tr th {\n",
       "        vertical-align: top;\n",
       "    }\n",
       "\n",
       "    .dataframe thead th {\n",
       "        text-align: right;\n",
       "    }\n",
       "</style>\n",
       "<table border=\"1\" class=\"dataframe\">\n",
       "  <thead>\n",
       "    <tr style=\"text-align: right;\">\n",
       "      <th></th>\n",
       "      <th>Order No</th>\n",
       "      <th>Order Date</th>\n",
       "      <th>Customer Name</th>\n",
       "      <th>Customer Type</th>\n",
       "      <th>Account Manager</th>\n",
       "      <th>Order Priority</th>\n",
       "      <th>Product Name</th>\n",
       "      <th>Product Category</th>\n",
       "      <th>Ship Mode</th>\n",
       "      <th>Ship Date</th>\n",
       "      <th>Cost Price</th>\n",
       "      <th>Retail Price</th>\n",
       "      <th>Profit</th>\n",
       "    </tr>\n",
       "  </thead>\n",
       "  <tbody>\n",
       "    <tr>\n",
       "      <th>0</th>\n",
       "      <td>5014-1</td>\n",
       "      <td>11-02-2013</td>\n",
       "      <td>Patrick Jones</td>\n",
       "      <td>Home Office</td>\n",
       "      <td>Yvette Biti</td>\n",
       "      <td>High</td>\n",
       "      <td>Artisan Heavy-Duty EZD  Binder With Locking Rings</td>\n",
       "      <td>Office Supplies</td>\n",
       "      <td>Regular Air</td>\n",
       "      <td>12-02-2013</td>\n",
       "      <td>3.52</td>\n",
       "      <td>5.58</td>\n",
       "      <td>2.06</td>\n",
       "    </tr>\n",
       "    <tr>\n",
       "      <th>1</th>\n",
       "      <td>5016-1</td>\n",
       "      <td>11-02-2013</td>\n",
       "      <td>Alex Russell</td>\n",
       "      <td>Home Office</td>\n",
       "      <td>Connor Betts</td>\n",
       "      <td>High</td>\n",
       "      <td>DrawIt Pizazz Watercolor Pencils, 10-Color Set...</td>\n",
       "      <td>Office Supplies</td>\n",
       "      <td>Regular Air</td>\n",
       "      <td>12-02-2013</td>\n",
       "      <td>2.39</td>\n",
       "      <td>4.26</td>\n",
       "      <td>1.87</td>\n",
       "    </tr>\n",
       "    <tr>\n",
       "      <th>2</th>\n",
       "      <td>5018-1</td>\n",
       "      <td>12-02-2013</td>\n",
       "      <td>Tamara Dahlen</td>\n",
       "      <td>Corporate</td>\n",
       "      <td>Leighton Forrest</td>\n",
       "      <td>Critical</td>\n",
       "      <td>Message Book, One Form per Page</td>\n",
       "      <td>Office Supplies</td>\n",
       "      <td>Express Air</td>\n",
       "      <td>14-02-2013</td>\n",
       "      <td>2.41</td>\n",
       "      <td>3.71</td>\n",
       "      <td>1.30</td>\n",
       "    </tr>\n",
       "  </tbody>\n",
       "</table>\n",
       "</div>"
      ],
      "text/plain": [
       "  Order No  Order Date  Customer Name Customer Type   Account Manager  \\\n",
       "0   5014-1  11-02-2013  Patrick Jones   Home Office       Yvette Biti   \n",
       "1   5016-1  11-02-2013   Alex Russell   Home Office      Connor Betts   \n",
       "2   5018-1  12-02-2013  Tamara Dahlen     Corporate  Leighton Forrest   \n",
       "\n",
       "  Order Priority                                       Product Name  \\\n",
       "0           High  Artisan Heavy-Duty EZD  Binder With Locking Rings   \n",
       "1           High  DrawIt Pizazz Watercolor Pencils, 10-Color Set...   \n",
       "2       Critical                    Message Book, One Form per Page   \n",
       "\n",
       "  Product Category    Ship Mode   Ship Date  Cost Price  Retail Price  Profit  \n",
       "0  Office Supplies  Regular Air  12-02-2013        3.52          5.58    2.06  \n",
       "1  Office Supplies  Regular Air  12-02-2013        2.39          4.26    1.87  \n",
       "2  Office Supplies  Express Air  14-02-2013        2.41          3.71    1.30  "
      ]
     },
     "execution_count": 5,
     "metadata": {},
     "output_type": "execute_result"
    }
   ],
   "source": [
    "df.head(3)"
   ]
  },
  {
   "cell_type": "code",
   "execution_count": 24,
   "id": "3053bfb5-0f3b-45a1-8872-2feabba91e16",
   "metadata": {
    "scrolled": true
   },
   "outputs": [
    {
     "name": "stdout",
     "output_type": "stream",
     "text": [
      "<class 'pandas.core.frame.DataFrame'>\n",
      "RangeIndex: 15 entries, 0 to 14\n",
      "Data columns (total 13 columns):\n",
      " #   Column            Non-Null Count  Dtype  \n",
      "---  ------            --------------  -----  \n",
      " 0   Order No          15 non-null     object \n",
      " 1   Order Date        15 non-null     object \n",
      " 2   Customer Name     15 non-null     object \n",
      " 3   Customer Type     15 non-null     object \n",
      " 4   Account Manager   15 non-null     object \n",
      " 5   Order Priority    15 non-null     object \n",
      " 6   Product Name      15 non-null     object \n",
      " 7   Product Category  15 non-null     object \n",
      " 8   Ship Mode         15 non-null     object \n",
      " 9   Ship Date         15 non-null     object \n",
      " 10  Cost Price        15 non-null     float64\n",
      " 11  Retail Price      15 non-null     float64\n",
      " 12  Profit            15 non-null     float64\n",
      "dtypes: float64(3), object(10)\n",
      "memory usage: 1.7+ KB\n"
     ]
    }
   ],
   "source": [
    "df.info()"
   ]
  },
  {
   "cell_type": "code",
   "execution_count": 25,
   "id": "b2340681-1470-42b9-b6a4-4e2caf07ee5d",
   "metadata": {
    "scrolled": true
   },
   "outputs": [
    {
     "data": {
      "text/html": [
       "<div>\n",
       "<style scoped>\n",
       "    .dataframe tbody tr th:only-of-type {\n",
       "        vertical-align: middle;\n",
       "    }\n",
       "\n",
       "    .dataframe tbody tr th {\n",
       "        vertical-align: top;\n",
       "    }\n",
       "\n",
       "    .dataframe thead th {\n",
       "        text-align: right;\n",
       "    }\n",
       "</style>\n",
       "<table border=\"1\" class=\"dataframe\">\n",
       "  <thead>\n",
       "    <tr style=\"text-align: right;\">\n",
       "      <th></th>\n",
       "      <th>Cost Price</th>\n",
       "      <th>Retail Price</th>\n",
       "      <th>Profit</th>\n",
       "    </tr>\n",
       "  </thead>\n",
       "  <tbody>\n",
       "    <tr>\n",
       "      <th>count</th>\n",
       "      <td>15.000000</td>\n",
       "      <td>15.000000</td>\n",
       "      <td>15.000000</td>\n",
       "    </tr>\n",
       "    <tr>\n",
       "      <th>mean</th>\n",
       "      <td>22.844667</td>\n",
       "      <td>37.528000</td>\n",
       "      <td>14.683333</td>\n",
       "    </tr>\n",
       "    <tr>\n",
       "      <th>std</th>\n",
       "      <td>32.677023</td>\n",
       "      <td>53.465678</td>\n",
       "      <td>20.799706</td>\n",
       "    </tr>\n",
       "    <tr>\n",
       "      <th>min</th>\n",
       "      <td>0.870000</td>\n",
       "      <td>1.680000</td>\n",
       "      <td>0.590000</td>\n",
       "    </tr>\n",
       "    <tr>\n",
       "      <th>25%</th>\n",
       "      <td>1.140000</td>\n",
       "      <td>2.350000</td>\n",
       "      <td>1.250000</td>\n",
       "    </tr>\n",
       "    <tr>\n",
       "      <th>50%</th>\n",
       "      <td>3.520000</td>\n",
       "      <td>5.580000</td>\n",
       "      <td>2.060000</td>\n",
       "    </tr>\n",
       "    <tr>\n",
       "      <th>75%</th>\n",
       "      <td>45.155000</td>\n",
       "      <td>74.290000</td>\n",
       "      <td>29.135000</td>\n",
       "    </tr>\n",
       "    <tr>\n",
       "      <th>max</th>\n",
       "      <td>99.390000</td>\n",
       "      <td>162.930000</td>\n",
       "      <td>63.540000</td>\n",
       "    </tr>\n",
       "  </tbody>\n",
       "</table>\n",
       "</div>"
      ],
      "text/plain": [
       "       Cost Price  Retail Price     Profit\n",
       "count   15.000000     15.000000  15.000000\n",
       "mean    22.844667     37.528000  14.683333\n",
       "std     32.677023     53.465678  20.799706\n",
       "min      0.870000      1.680000   0.590000\n",
       "25%      1.140000      2.350000   1.250000\n",
       "50%      3.520000      5.580000   2.060000\n",
       "75%     45.155000     74.290000  29.135000\n",
       "max     99.390000    162.930000  63.540000"
      ]
     },
     "execution_count": 25,
     "metadata": {},
     "output_type": "execute_result"
    }
   ],
   "source": [
    "df.describe()"
   ]
  },
  {
   "cell_type": "code",
   "execution_count": 26,
   "id": "f412a3bb-448d-4673-aabd-e8dfad9f4523",
   "metadata": {},
   "outputs": [
    {
     "data": {
      "text/plain": [
       "Order Priority\n",
       "High             4\n",
       "Critical         4\n",
       "Medium           4\n",
       "Not Specified    2\n",
       "Low              1\n",
       "Name: count, dtype: int64"
      ]
     },
     "execution_count": 26,
     "metadata": {},
     "output_type": "execute_result"
    }
   ],
   "source": [
    "df['Order Priority'].value_counts()"
   ]
  },
  {
   "cell_type": "code",
   "execution_count": 27,
   "id": "a2f6eadd-e350-404a-afd3-dd63733561e4",
   "metadata": {},
   "outputs": [
    {
     "data": {
      "text/plain": [
       "Account Manager\n",
       "Yvette Biti           3\n",
       "Phoebe Gour           3\n",
       "Connor Betts          2\n",
       "Leighton Forrest      2\n",
       "Nicholas Fernandes    1\n",
       "Radhya Staples        1\n",
       "Natasha Song          1\n",
       "Tina Carlton          1\n",
       "Samantha Chairs       1\n",
       "Name: count, dtype: int64"
      ]
     },
     "execution_count": 27,
     "metadata": {},
     "output_type": "execute_result"
    }
   ],
   "source": [
    "df['Account Manager'].value_counts()"
   ]
  },
  {
   "cell_type": "code",
   "execution_count": 28,
   "id": "ff7f3c29-7497-40a5-8e94-69757c5bd776",
   "metadata": {},
   "outputs": [
    {
     "data": {
      "text/plain": [
       "Order Priority  Account Manager   \n",
       "Critical        Leighton Forrest      1\n",
       "                Nicholas Fernandes    1\n",
       "                Phoebe Gour           2\n",
       "High            Connor Betts          1\n",
       "                Phoebe Gour           1\n",
       "                Yvette Biti           2\n",
       "Low             Yvette Biti           1\n",
       "Medium          Connor Betts          1\n",
       "                Radhya Staples        1\n",
       "                Samantha Chairs       1\n",
       "                Tina Carlton          1\n",
       "Not Specified   Leighton Forrest      1\n",
       "                Natasha Song          1\n",
       "dtype: int64"
      ]
     },
     "execution_count": 28,
     "metadata": {},
     "output_type": "execute_result"
    }
   ],
   "source": [
    "df.groupby(['Order Priority','Account Manager']).size()"
   ]
  },
  {
   "cell_type": "code",
   "execution_count": 29,
   "id": "997d09bc-0fe9-4eeb-ab13-988f67534a95",
   "metadata": {},
   "outputs": [
    {
     "data": {
      "text/plain": [
       "Product Category\n",
       "Office Supplies    14\n",
       "Technology          1\n",
       "Name: count, dtype: int64"
      ]
     },
     "execution_count": 29,
     "metadata": {},
     "output_type": "execute_result"
    }
   ],
   "source": [
    "df['Product Category'].value_counts()"
   ]
  },
  {
   "cell_type": "code",
   "execution_count": 30,
   "id": "c361826b-d035-404a-a315-3b6818486ce2",
   "metadata": {},
   "outputs": [
    {
     "data": {
      "text/plain": [
       "Ship Mode\n",
       "Regular Air       13\n",
       "Express Air        1\n",
       "Delivery Truck     1\n",
       "Name: count, dtype: int64"
      ]
     },
     "execution_count": 30,
     "metadata": {},
     "output_type": "execute_result"
    }
   ],
   "source": [
    "df['Ship Mode'].value_counts()"
   ]
  },
  {
   "cell_type": "code",
   "execution_count": 31,
   "id": "77955cd9-7cce-4258-926e-91f3d22084f0",
   "metadata": {},
   "outputs": [
    {
     "data": {
      "text/plain": [
       "Product Category  Ship Mode     \n",
       "Office Supplies   Express Air        1\n",
       "                  Regular Air       13\n",
       "Technology        Delivery Truck     1\n",
       "dtype: int64"
      ]
     },
     "execution_count": 31,
     "metadata": {},
     "output_type": "execute_result"
    }
   ],
   "source": [
    "df.groupby(['Product Category','Ship Mode']).size()"
   ]
  },
  {
   "cell_type": "code",
   "execution_count": 34,
   "id": "17a0edc1-5e7c-4fc1-ae5a-24c417527b12",
   "metadata": {},
   "outputs": [
    {
     "data": {
      "text/plain": [
       "Account Manager\n",
       "Connor Betts           2.310000\n",
       "Leighton Forrest      18.745000\n",
       "Natasha Song           3.270000\n",
       "Nicholas Fernandes     1.200000\n",
       "Phoebe Gour           28.736667\n",
       "Radhya Staples         0.790000\n",
       "Samantha Chairs       36.190000\n",
       "Tina Carlton           0.940000\n",
       "Yvette Biti           16.513333\n",
       "Name: Profit, dtype: float64"
      ]
     },
     "execution_count": 34,
     "metadata": {},
     "output_type": "execute_result"
    }
   ],
   "source": [
    "df.groupby('Account Manager')['Profit'].mean()"
   ]
  },
  {
   "cell_type": "code",
   "execution_count": 42,
   "id": "b95f52d3-628f-4965-b081-e899262089c9",
   "metadata": {},
   "outputs": [
    {
     "data": {
      "text/plain": [
       "0    11-02-2013\n",
       "1    25-02-2013\n",
       "Name: Order Date, dtype: object"
      ]
     },
     "execution_count": 42,
     "metadata": {},
     "output_type": "execute_result"
    }
   ],
   "source": [
    "df['Order Date'].mode()"
   ]
  },
  {
   "cell_type": "code",
   "execution_count": 43,
   "id": "1cc6bb78-3373-47ac-a081-49727b8939a0",
   "metadata": {},
   "outputs": [
    {
     "data": {
      "text/plain": [
       "0    12-02-2013\n",
       "1    15-02-2013\n",
       "2    22-02-2013\n",
       "3    23-02-2013\n",
       "4    27-02-2013\n",
       "Name: Ship Date, dtype: object"
      ]
     },
     "execution_count": 43,
     "metadata": {},
     "output_type": "execute_result"
    }
   ],
   "source": [
    "df['Ship Date'].mode()"
   ]
  },
  {
   "cell_type": "code",
   "execution_count": 46,
   "id": "98dc42df-d53a-4eba-bd1b-d18280eff4cf",
   "metadata": {},
   "outputs": [
    {
     "data": {
      "text/plain": [
       "Customer Type\n",
       "Corporate         7\n",
       "Home Office       5\n",
       "Consumer          2\n",
       "Small Business    1\n",
       "Name: count, dtype: int64"
      ]
     },
     "execution_count": 46,
     "metadata": {},
     "output_type": "execute_result"
    }
   ],
   "source": [
    "df['Customer Type'].value_counts()"
   ]
  },
  {
   "cell_type": "code",
   "execution_count": 47,
   "id": "4980d71e-9b8a-4a68-9f46-32e0151d6e11",
   "metadata": {},
   "outputs": [
    {
     "data": {
      "text/plain": [
       "Order Priority  Account Manager     Product Category  Ship Mode     \n",
       "Critical        Leighton Forrest    Office Supplies   Express Air        1.300\n",
       "                Nicholas Fernandes  Office Supplies   Regular Air        1.200\n",
       "                Phoebe Gour         Office Supplies   Regular Air       32.065\n",
       "High            Connor Betts        Office Supplies   Regular Air        1.870\n",
       "                Phoebe Gour         Office Supplies   Regular Air       22.080\n",
       "                Yvette Biti         Office Supplies   Regular Air        2.060\n",
       "                                    Technology        Delivery Truck    45.970\n",
       "Low             Yvette Biti         Office Supplies   Regular Air        1.510\n",
       "Medium          Connor Betts        Office Supplies   Regular Air        2.750\n",
       "                Radhya Staples      Office Supplies   Regular Air        0.790\n",
       "                Samantha Chairs     Office Supplies   Regular Air       36.190\n",
       "                Tina Carlton        Office Supplies   Regular Air        0.940\n",
       "Not Specified   Leighton Forrest    Office Supplies   Regular Air       36.190\n",
       "                Natasha Song        Office Supplies   Regular Air        3.270\n",
       "Name: Profit, dtype: float64"
      ]
     },
     "execution_count": 47,
     "metadata": {},
     "output_type": "execute_result"
    }
   ],
   "source": [
    "df.groupby(['Order Priority','Account Manager','Product Category','Ship Mode'])['Profit'].mean()"
   ]
  }
 ],
 "metadata": {
  "kernelspec": {
   "display_name": "Python 3 (ipykernel)",
   "language": "python",
   "name": "python3"
  },
  "language_info": {
   "codemirror_mode": {
    "name": "ipython",
    "version": 3
   },
   "file_extension": ".py",
   "mimetype": "text/x-python",
   "name": "python",
   "nbconvert_exporter": "python",
   "pygments_lexer": "ipython3",
   "version": "3.11.7"
  }
 },
 "nbformat": 4,
 "nbformat_minor": 5
}
