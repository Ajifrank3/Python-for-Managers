{
 "cells": [
  {
   "cell_type": "code",
   "execution_count": 1,
   "id": "09f627bf-57e2-4b89-9ef9-664d63ee4a2c",
   "metadata": {},
   "outputs": [],
   "source": [
    "# Write a program that asks the user to enter a number.\n",
    "# Then, using a while loop, print the square of each number from 1 to the entered number."
   ]
  },
  {
   "cell_type": "code",
   "execution_count": null,
   "id": "f6fe2924-740a-45f0-94ff-4254050d4cd0",
   "metadata": {},
   "outputs": [
    {
     "name": "stdin",
     "output_type": "stream",
     "text": [
      "Enter the number:  5\n"
     ]
    }
   ],
   "source": [
    "n = int(input(\"Enter the number: \"))\n",
    "\n",
    "current_number = 1\n",
    "\n",
    "while current_number <= n:\n",
    "    square = current_number * current_number\n",
    "    print(f\"The square of {current_number} is {square}\")\n",
    "    current_number = current_number + 1"
   ]
  },
  {
   "cell_type": "code",
   "execution_count": null,
   "id": "041bed12-238b-448f-b572-7cefef806703",
   "metadata": {},
   "outputs": [],
   "source": []
  }
 ],
 "metadata": {
  "kernelspec": {
   "display_name": "Python 3 (ipykernel)",
   "language": "python",
   "name": "python3"
  },
  "language_info": {
   "codemirror_mode": {
    "name": "ipython",
    "version": 3
   },
   "file_extension": ".py",
   "mimetype": "text/x-python",
   "name": "python",
   "nbconvert_exporter": "python",
   "pygments_lexer": "ipython3",
   "version": "3.11.7"
  }
 },
 "nbformat": 4,
 "nbformat_minor": 5
}
