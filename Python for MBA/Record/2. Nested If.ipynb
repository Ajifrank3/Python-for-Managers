{
 "cells": [
  {
   "cell_type": "code",
   "execution_count": 2,
   "id": "baf1b97d-a54d-41fb-a953-4a3bd5776983",
   "metadata": {},
   "outputs": [
    {
     "name": "stdout",
     "output_type": "stream",
     "text": [
      "Enter three number\n"
     ]
    },
    {
     "name": "stdin",
     "output_type": "stream",
     "text": [
      " 75\n",
      " 65\n",
      " 88\n"
     ]
    },
    {
     "name": "stdout",
     "output_type": "stream",
     "text": [
      "\n",
      "Large number =  88\n"
     ]
    }
   ],
   "source": [
    "# 2. Nested if else statement for finding largest number by comparing three numbers\n",
    "\n",
    "print('Enter three number')\n",
    "num_1 = int(input())\n",
    "num_2 = int(input())\n",
    "num_3 = int(input())\n",
    "\n",
    "if num_1 > num_2:\n",
    "  if num_2 > num_3:\n",
    "    large = num_1\n",
    "  elif num_3 > num_1:\n",
    "    large = num_3\n",
    "  else:\n",
    "    large = num_1\n",
    "elif num_2 > num_3:\n",
    "  large = num_2\n",
    "else:\n",
    "  large = num_3\n",
    "\n",
    "print(\"\\nLarge number = \",large)"
   ]
  },
  {
   "cell_type": "code",
   "execution_count": null,
   "id": "4155c028-a8dd-46bc-b70a-f39c0a289d65",
   "metadata": {},
   "outputs": [],
   "source": []
  }
 ],
 "metadata": {
  "kernelspec": {
   "display_name": "Python 3 (ipykernel)",
   "language": "python",
   "name": "python3"
  },
  "language_info": {
   "codemirror_mode": {
    "name": "ipython",
    "version": 3
   },
   "file_extension": ".py",
   "mimetype": "text/x-python",
   "name": "python",
   "nbconvert_exporter": "python",
   "pygments_lexer": "ipython3",
   "version": "3.11.7"
  }
 },
 "nbformat": 4,
 "nbformat_minor": 5
}
