{
 "cells": [
  {
   "cell_type": "code",
   "execution_count": 1,
   "id": "0dc7d982-2e17-46e8-b8aa-b7f967c42bf6",
   "metadata": {},
   "outputs": [],
   "source": [
    "# convert the list into string\n",
    "# convert the string into list"
   ]
  },
  {
   "cell_type": "code",
   "execution_count": 5,
   "id": "68799ce2-ac57-4163-84e9-931f2f010fb7",
   "metadata": {},
   "outputs": [
    {
     "name": "stdout",
     "output_type": "stream",
     "text": [
      "List =  ['New York', 'San Francisco', 'London']\n",
      "string =  Milk and Eggs and Cheese\n"
     ]
    }
   ],
   "source": [
    "cities = \"New York, San Francisco, London\".split(\", \")\n",
    "print('List = ',cities)\n",
    "groceries = [\"Milk\", \"Eggs\", \"Cheese\"]\n",
    "print('string = ',\" and \".join(groceries))"
   ]
  }
 ],
 "metadata": {
  "kernelspec": {
   "display_name": "Python 3 (ipykernel)",
   "language": "python",
   "name": "python3"
  },
  "language_info": {
   "codemirror_mode": {
    "name": "ipython",
    "version": 3
   },
   "file_extension": ".py",
   "mimetype": "text/x-python",
   "name": "python",
   "nbconvert_exporter": "python",
   "pygments_lexer": "ipython3",
   "version": "3.11.7"
  }
 },
 "nbformat": 4,
 "nbformat_minor": 5
}
