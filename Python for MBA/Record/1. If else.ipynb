{
 "cells": [
  {
   "cell_type": "code",
   "execution_count": 1,
   "id": "d1df461f-e150-4211-a210-2400295c8848",
   "metadata": {},
   "outputs": [
    {
     "name": "stdout",
     "output_type": "stream",
     "text": [
      "1\n",
      "2\n",
      "3 = Fizz\n",
      "4\n",
      "5 = Buzz\n",
      "6 = Fizz\n",
      "7\n",
      "8\n",
      "9 = Fizz\n",
      "10 = Buzz\n",
      "11\n",
      "12 = Fizz\n",
      "13\n",
      "14\n",
      "15 = FizzBuzz\n",
      "16\n",
      "17\n",
      "18 = Fizz\n",
      "19\n",
      "20 = Buzz\n"
     ]
    }
   ],
   "source": [
    "# 1. If else\n",
    "\n",
    "for number in range(1, 21):\n",
    "    if ((number % 3) == 0) and ((number % 5) == 0):\n",
    "        print(number,\"= FizzBuzz\")\n",
    "    elif (number % 3) == 0:\n",
    "        print(number,\"= Fizz\")\n",
    "    elif (number % 5) == 0:\n",
    "        print(number,\"= Buzz\")\n",
    "    else:\n",
    "        print(number)"
   ]
  },
  {
   "cell_type": "code",
   "execution_count": null,
   "id": "f8e2e4e0-472c-40ff-8a94-8ea8b07f314b",
   "metadata": {},
   "outputs": [],
   "source": []
  }
 ],
 "metadata": {
  "kernelspec": {
   "display_name": "Python 3 (ipykernel)",
   "language": "python",
   "name": "python3"
  },
  "language_info": {
   "codemirror_mode": {
    "name": "ipython",
    "version": 3
   },
   "file_extension": ".py",
   "mimetype": "text/x-python",
   "name": "python",
   "nbconvert_exporter": "python",
   "pygments_lexer": "ipython3",
   "version": "3.11.7"
  }
 },
 "nbformat": 4,
 "nbformat_minor": 5
}
