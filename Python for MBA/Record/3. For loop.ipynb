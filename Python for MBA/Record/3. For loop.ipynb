{
 "cells": [
  {
   "cell_type": "code",
   "execution_count": 2,
   "id": "73c466a3-dfc4-4b8e-9538-b59499276b16",
   "metadata": {},
   "outputs": [],
   "source": [
    "# Find the even and odd number within the range and append the value"
   ]
  },
  {
   "cell_type": "code",
   "execution_count": 3,
   "id": "74f02ca6-155b-4fae-b80e-e98f3ffdc98e",
   "metadata": {},
   "outputs": [
    {
     "name": "stdout",
     "output_type": "stream",
     "text": [
      "Even numbers are [2, 4, 6, 8, 10, 12, 14, 16, 18, 20]\n",
      " Odd numbers are [1, 3, 5, 7, 9, 11, 13, 15, 17, 19]\n"
     ]
    }
   ],
   "source": [
    "even_number = []\n",
    "odd_number = []\n",
    "\n",
    "for number in range(1,21):\n",
    "    if number % 2 == 0:\n",
    "        even_number.append(number)\n",
    "    else:\n",
    "        odd_number.append(number)\n",
    "\n",
    "print(f\"Even numbers are {even_number}\\n Odd numbers are {odd_number}\")"
   ]
  },
  {
   "cell_type": "code",
   "execution_count": null,
   "id": "79cf2918-f174-466c-919d-157427022848",
   "metadata": {},
   "outputs": [],
   "source": []
  }
 ],
 "metadata": {
  "kernelspec": {
   "display_name": "Python 3 (ipykernel)",
   "language": "python",
   "name": "python3"
  },
  "language_info": {
   "codemirror_mode": {
    "name": "ipython",
    "version": 3
   },
   "file_extension": ".py",
   "mimetype": "text/x-python",
   "name": "python",
   "nbconvert_exporter": "python",
   "pygments_lexer": "ipython3",
   "version": "3.11.7"
  }
 },
 "nbformat": 4,
 "nbformat_minor": 5
}
