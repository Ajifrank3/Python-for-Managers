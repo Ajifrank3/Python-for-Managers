{
 "cells": [
  {
   "cell_type": "markdown",
   "metadata": {
    "id": "OA825wwgDEpk"
   },
   "source": [
    "# **Assignment - 1**"
   ]
  },
  {
   "cell_type": "code",
   "execution_count": 7,
   "metadata": {
    "executionInfo": {
     "elapsed": 620,
     "status": "ok",
     "timestamp": 1709901538579,
     "user": {
      "displayName": "Surendhar B",
      "userId": "17859853420486312135"
     },
     "user_tz": -330
    },
    "id": "jNGZwFU5DNtT"
   },
   "outputs": [],
   "source": [
    "# Find the length of the list\n",
    "l = [4,5,6,6]"
   ]
  },
  {
   "cell_type": "code",
   "execution_count": null,
   "metadata": {
    "id": "bWg_qkIdDix6"
   },
   "outputs": [],
   "source": [
    "# get last value of below list as output\n",
    "k = [4,5,6,8]"
   ]
  },
  {
   "cell_type": "markdown",
   "metadata": {
    "id": "UT_pg1p_GAGv"
   },
   "source": [
    "# **Assignment - 2**"
   ]
  },
  {
   "cell_type": "code",
   "execution_count": null,
   "metadata": {
    "id": "t5TdONFiEsKi"
   },
   "outputs": [],
   "source": [
    "# Reverse the Given list\n",
    "\n",
    "fruits = ['Mango','Apple','Orange','lemon']\n"
   ]
  },
  {
   "cell_type": "code",
   "execution_count": null,
   "metadata": {
    "id": "oZugnSyLG1m0"
   },
   "outputs": [],
   "source": [
    "# import the 'random' library and generate random fruits picker with given list\n",
    "# ['Mango','Apple','Orange','lemon']\n"
   ]
  },
  {
   "cell_type": "markdown",
   "metadata": {
    "id": "nv5CKZFmILu3"
   },
   "source": [
    "# **Assignment - 3**"
   ]
  },
  {
   "cell_type": "code",
   "execution_count": null,
   "metadata": {
    "id": "1itXMvluHRrO"
   },
   "outputs": [],
   "source": [
    "# Create a funtion for adding two numbers using 'def'\n",
    "\n"
   ]
  },
  {
   "cell_type": "code",
   "execution_count": null,
   "metadata": {
    "id": "7cIYP9b3Iia-"
   },
   "outputs": [],
   "source": [
    "# using 'if' condition generate a code for \"number is greater than 50-print(number,\"is greater than 50\") or less than 50-print(number,\"is less than 50\")"
   ]
  },
  {
   "cell_type": "markdown",
   "metadata": {
    "id": "PhGzKF6XKEQ8"
   },
   "source": [
    "# **Assignment - 4**"
   ]
  },
  {
   "cell_type": "code",
   "execution_count": null,
   "metadata": {
    "id": "XcNY9uzIKCfz"
   },
   "outputs": [],
   "source": [
    "# import pandas library and load the csv file(ripple_price.csv)\n"
   ]
  },
  {
   "cell_type": "code",
   "execution_count": null,
   "metadata": {
    "id": "rRqDD7x1M6ym"
   },
   "outputs": [],
   "source": [
    "# find the average volume from the above Dataframe"
   ]
  },
  {
   "cell_type": "code",
   "execution_count": null,
   "metadata": {
    "id": "PJq52shONCSq"
   },
   "outputs": [],
   "source": [
    "# create a Chart from the dataframe using matplotlib.pyplot library"
   ]
  },
  {
   "cell_type": "markdown",
   "metadata": {
    "id": "yRMOoG4mOiih"
   },
   "source": [
    "# **Assignment - 5**"
   ]
  },
  {
   "cell_type": "code",
   "execution_count": null,
   "metadata": {
    "id": "PMa8MpEpOhnV"
   },
   "outputs": [],
   "source": [
    "# Join the lang_mast.csv and Movies.csv using 'merge'"
   ]
  }
 ],
 "metadata": {
  "colab": {
   "authorship_tag": "ABX9TyMk6grcVVgtMORaBURWwsUw",
   "provenance": []
  },
  "kernelspec": {
   "display_name": "Python 3 (ipykernel)",
   "language": "python",
   "name": "python3"
  },
  "language_info": {
   "codemirror_mode": {
    "name": "ipython",
    "version": 3
   },
   "file_extension": ".py",
   "mimetype": "text/x-python",
   "name": "python",
   "nbconvert_exporter": "python",
   "pygments_lexer": "ipython3",
   "version": "3.11.5"
  }
 },
 "nbformat": 4,
 "nbformat_minor": 1
}
